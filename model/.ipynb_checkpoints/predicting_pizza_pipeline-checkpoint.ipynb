{
 "cells": [
  {
   "cell_type": "code",
   "execution_count": 25,
   "metadata": {
    "collapsed": false,
    "deletable": true,
    "editable": true
   },
   "outputs": [],
   "source": [
    "import sys\n",
    "\n",
    "sys.path.append('/Users/lorenamesa/Desktop/predicting_altruism/venv/lib/python3.5/site-packages/')\n",
    "\n",
    "import json, re\n",
    "import pandas as pd\n",
    "import numpy as np\n",
    "import os \n",
    "import pickle\n",
    "\n",
    "from nltk.corpus import stopwords\n",
    "from sklearn.naive_bayes import MultinomialNB\n",
    "from sklearn.cross_validation import train_test_split\n",
    "from sklearn.feature_extraction.text import CountVectorizer\n",
    "from sklearn.metrics import roc_curve, auc\n",
    "from sklearn.pipeline import Pipeline\n",
    "import matplotlib.pyplot as plt"
   ]
  },
  {
   "cell_type": "code",
   "execution_count": 11,
   "metadata": {
    "collapsed": true
   },
   "outputs": [],
   "source": [
    "train_df = pd.read_json('/Users/lorenamesa/Desktop/python_mexico/model/notebook/train.json')\n",
    "test_df = pd.read_json('/Users/lorenamesa/Desktop/python_mexico/model/notebook/test.json')\n",
    "\n",
    "train_df['_data'] = 'train'\n",
    "test_df['_data'] = 'test'"
   ]
  },
  {
   "cell_type": "code",
   "execution_count": 12,
   "metadata": {
    "collapsed": false,
    "deletable": true,
    "editable": true
   },
   "outputs": [
    {
     "name": "stdout",
     "output_type": "stream",
     "text": [
      "False    3046\n",
      "True      994\n",
      "dtype: int64\n",
      "(1631, 18)\n"
     ]
    }
   ],
   "source": [
    "print(pd.value_counts(train_df['requester_received_pizza'].values))\n",
    "print(test_df.shape)"
   ]
  },
  {
   "cell_type": "code",
   "execution_count": 89,
   "metadata": {
    "collapsed": false,
    "deletable": true,
    "editable": true,
    "scrolled": true
   },
   "outputs": [
    {
     "data": {
      "text/plain": [
       "Index(['giver_username_if_known',\n",
       "       'number_of_downvotes_of_request_at_retrieval',\n",
       "       'number_of_upvotes_of_request_at_retrieval', 'post_was_edited',\n",
       "       'request_id', 'request_number_of_comments_at_retrieval', 'request_text',\n",
       "       'request_text_edit_aware', 'request_title',\n",
       "       'requester_account_age_in_days_at_request',\n",
       "       'requester_account_age_in_days_at_retrieval',\n",
       "       'requester_days_since_first_post_on_raop_at_request',\n",
       "       'requester_days_since_first_post_on_raop_at_retrieval',\n",
       "       'requester_number_of_comments_at_request',\n",
       "       'requester_number_of_comments_at_retrieval',\n",
       "       'requester_number_of_comments_in_raop_at_request',\n",
       "       'requester_number_of_comments_in_raop_at_retrieval',\n",
       "       'requester_number_of_posts_at_request',\n",
       "       'requester_number_of_posts_at_retrieval',\n",
       "       'requester_number_of_posts_on_raop_at_request',\n",
       "       'requester_number_of_posts_on_raop_at_retrieval',\n",
       "       'requester_number_of_subreddits_at_request', 'requester_received_pizza',\n",
       "       'requester_subreddits_at_request',\n",
       "       'requester_upvotes_minus_downvotes_at_request',\n",
       "       'requester_upvotes_minus_downvotes_at_retrieval',\n",
       "       'requester_upvotes_plus_downvotes_at_request',\n",
       "       'requester_upvotes_plus_downvotes_at_retrieval', 'requester_user_flair',\n",
       "       'requester_username', 'unix_timestamp_of_request',\n",
       "       'unix_timestamp_of_request_utc', '_data'],\n",
       "      dtype='object')"
      ]
     },
     "execution_count": 89,
     "metadata": {},
     "output_type": "execute_result"
    }
   ],
   "source": [
    "train_df.columns\n",
    "# requester_received_pizza labelled data"
   ]
  },
  {
   "cell_type": "code",
   "execution_count": 13,
   "metadata": {
    "collapsed": true,
    "deletable": true,
    "editable": true
   },
   "outputs": [],
   "source": [
    "all_data_df = train_df.append(test_df)\n",
    "\n",
    "all_data_df = all_data_df[['_data', 'request_id', 'request_title', \n",
    "                           'request_text_edit_aware', 'requester_received_pizza']]"
   ]
  },
  {
   "cell_type": "code",
   "execution_count": 14,
   "metadata": {
    "collapsed": false,
    "deletable": true,
    "editable": true
   },
   "outputs": [
    {
     "name": "stdout",
     "output_type": "stream",
     "text": [
      "_data                                                                   train\n",
      "request_id                                                           t3_l25d7\n",
      "request_title                         Request Colorado Springs Help Us Please\n",
      "request_text_edit_aware     Hi I am in need of food for my 4 children we a...\n",
      "requester_received_pizza                                                False\n",
      "Name: 0, dtype: object\n"
     ]
    }
   ],
   "source": [
    "print(all_data_df.iloc[0])  # Print first row"
   ]
  },
  {
   "cell_type": "code",
   "execution_count": 15,
   "metadata": {
    "collapsed": true,
    "deletable": true,
    "editable": true
   },
   "outputs": [],
   "source": [
    "# Add more logical names\n",
    "all_data_df.rename(\n",
    "    columns=\n",
    "    {\n",
    "        'request_id': 'id',\n",
    "        'request_title': 'title',\n",
    "        'request_text_edit_aware': 'body',\n",
    "        'requester_received_pizza': 'free_pizza'\n",
    "    }, inplace=True)"
   ]
  },
  {
   "cell_type": "code",
   "execution_count": 16,
   "metadata": {
    "collapsed": true,
    "deletable": true,
    "editable": true
   },
   "outputs": [],
   "source": [
    "# Want to look at all text!\n",
    "all_data_df['full_text'] = all_data_df['title'] + ' ' + all_data_df['body']\n",
    "\n",
    "# # Map true/false --> ints values of 1 for yes -1 for no\n",
    "all_data_df['free_pizza'] = all_data_df['free_pizza'].apply(lambda x: -1 if pd.isnull(x) else int(x))"
   ]
  },
  {
   "cell_type": "code",
   "execution_count": 119,
   "metadata": {
    "collapsed": false,
    "deletable": true,
    "editable": true
   },
   "outputs": [
    {
     "data": {
      "text/plain": [
       "\"Requesting Pizza... Cibolo, TX 78108 Just closed on our new house, no food or money until the 1st.  =\\\\  Shit sucks. Wife doesn't know I'm posting this or she would tell me not to.  Cheese or Pepperoni.  Message me for address/phone.  Thank you reddit and RAoP\""
      ]
     },
     "execution_count": 119,
     "metadata": {},
     "output_type": "execute_result"
    }
   ],
   "source": [
    "all_data_df.iloc[3100]['full_text']"
   ]
  },
  {
   "cell_type": "code",
   "execution_count": 96,
   "metadata": {
    "collapsed": false,
    "deletable": true,
    "editable": true
   },
   "outputs": [
    {
     "data": {
      "text/plain": [
       "'train'"
      ]
     },
     "execution_count": 96,
     "metadata": {},
     "output_type": "execute_result"
    }
   ],
   "source": [
    "all_data_df.iloc[3300]['_data']"
   ]
  },
  {
   "cell_type": "code",
   "execution_count": 17,
   "metadata": {
    "collapsed": true,
    "deletable": true,
    "editable": true
   },
   "outputs": [],
   "source": [
    "def clean_txt(raw_text, remove_stop=False):\n",
    "    letters = re.sub(\"[^a-zA-Z]\", \" \", str(raw_text)) \n",
    "    words = letters.lower().split()                             \n",
    "    \n",
    "    stop_words = set(stopwords.words(\"english\"))\n",
    "    \n",
    "    words = list(\n",
    "        filter(lambda word: word and word not in stop_words, words)\n",
    "    )\n",
    "    \n",
    "    # words = [word for word in words if word and word not in stop_words]\n",
    "    return \" \".join(words)"
   ]
  },
  {
   "cell_type": "code",
   "execution_count": 18,
   "metadata": {
    "collapsed": true,
    "deletable": true,
    "editable": true
   },
   "outputs": [],
   "source": [
    "all_data_df['processed_text'] = all_data_df['full_text'].apply(clean_txt)"
   ]
  },
  {
   "cell_type": "code",
   "execution_count": 20,
   "metadata": {
    "collapsed": true,
    "deletable": true,
    "editable": true
   },
   "outputs": [],
   "source": [
    "def get_xy(vectorizer=None, txt_col='processed_text'):\n",
    "    # creates numerical arrays, word frequencies w/CountVectorizer,\n",
    "    # for X (bag of words) and y (got pizza)\n",
    "    \n",
    "    if vectorizer is None:\n",
    "        vectorizer = CountVectorizer()\n",
    "        \n",
    "    dg = all_data_df[all_data_df['_data'] == 'train']  # Grab training data\n",
    "\n",
    "    X = vectorizer.fit_transform(dg[txt_col]).toarray()\n",
    "    y = dg['free_pizza'].astype(int).as_matrix()\n",
    "\n",
    "    return X, y"
   ]
  },
  {
   "cell_type": "code",
   "execution_count": 23,
   "metadata": {
    "collapsed": false,
    "deletable": true,
    "editable": true
   },
   "outputs": [],
   "source": [
    "X, y = get_xy()\n",
    "X_train, X_test, y_train, y_test = train_test_split(X, y, random_state=1111)\n",
    "\n",
    "model = MultinomialNB().fit(X_train, y_train)\n",
    "\n",
    "filename = '/Users/lorenamesa/Desktop/python_mexico/model/notebook/pizza_classifier_latest.pkl'\n",
    "pickle.dump(model, open(filename, 'wb'))\n",
    "\n",
    "# print(\"Accuracy on training data: {0}\".format(model.score(X_train, y_train)))\n",
    "# print(\"Accuracy on test data:     {0}\".format(model.score(X_test, y_test)))\n",
    "\n",
    "# y_pred = model.predict_proba(X_test)[:, 1]\n",
    "\n",
    "# fpr, tpr, thresholds = roc_curve(y_test, y_pred)\n",
    "# print(\"AUC: {0}\".format(auc(fpr, tpr)))"
   ]
  },
  {
   "cell_type": "code",
   "execution_count": 28,
   "metadata": {
    "collapsed": false,
    "deletable": true,
    "editable": true
   },
   "outputs": [],
   "source": [
    "def clean_txt_tokenizer(raw_text):\n",
    "    letters = re.sub(\"[^a-zA-Z]\", \" \", str(raw_text)) \n",
    "    words = letters.lower().split()                             \n",
    "    \n",
    "    words = list(\n",
    "        filter(lambda word: word and word not in stop_words, words)\n",
    "    )\n",
    "    \n",
    "    # words = [word for word in words if word and word not in stop_words]\n",
    "    return words\n",
    "\n",
    "model_pipeline = [\n",
    "    (Pipeline([('vect', \n",
    "                CountVectorizer(tokenizer=clean_txt_tokenizer, stop_words='english', ngram_range=(1,2))), \n",
    "               ('clf', MultinomialNB())\n",
    "      ]))\n",
    "]\n",
    "\n",
    "filename = '/Users/lorenamesa/Desktop/python_mexico/model/notebook/pizza_classifier_pipeline_latest.pkl'\n",
    "pickle.dump(model, open(filename, 'wb'))"
   ]
  },
  {
   "cell_type": "code",
   "execution_count": 118,
   "metadata": {
    "collapsed": false,
    "deletable": true,
    "editable": true
   },
   "outputs": [
    {
     "data": {
      "image/png": "[encoded data removed]",
      "text/plain": [
       "<matplotlib.figure.Figure at 0x116dcdc50>"
      ]
     },
     "metadata": {},
     "output_type": "display_data"
    }
   ],
   "source": [
    "plt.title('Receiver Operating Characteristic')\n",
    "plt.plot(fpr, tpr, 'b',\n",
    "label='AUC = {0}'.format(auc(fpr, tpr)))\n",
    "plt.legend(loc='lower right')\n",
    "plt.plot([0,1],[0,1],'r--')\n",
    "plt.xlim([-0.1,1.2])\n",
    "plt.ylim([-0.1,1.2])\n",
    "plt.ylabel('True Positive Rate')\n",
    "plt.xlabel('False Positive Rate')\n",
    "plt.show()"
   ]
  },
  {
   "cell_type": "code",
   "execution_count": null,
   "metadata": {
    "collapsed": true,
    "deletable": true,
    "editable": true
   },
   "outputs": [],
   "source": []
  }
 ],
 "metadata": {
  "kernelspec": {
   "display_name": "Python 3",
   "language": "python",
   "name": "python3"
  },
  "language_info": {
   "codemirror_mode": {
    "name": "ipython",
    "version": 3
   },
   "file_extension": ".py",
   "mimetype": "text/x-python",
   "name": "python",
   "nbconvert_exporter": "python",
   "pygments_lexer": "ipython3",
   "version": "3.5.2"
  }
 },
 "nbformat": 4,
 "nbformat_minor": 2
}
